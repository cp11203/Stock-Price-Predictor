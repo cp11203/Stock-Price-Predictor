{
 "cells": [
  {
   "cell_type": "code",
   "execution_count": 82,
   "id": "3bb61991",
   "metadata": {},
   "outputs": [],
   "source": [
    "# This program uses neural network called Long Short Term Memory (LSTM)\n",
    "# Import libraries\n",
    "import math \n",
    "import pandas as pd\n",
    "import pandas_datareader as web\n",
    "import numpy as np\n",
    "from sklearn.preprocessing import MinMaxScaler\n",
    "from keras.models import Sequential\n",
    "from keras.layers import Dense,LSTM\n",
    "import matplotlib.pyplot as plt\n",
    "plt.style.use('fivethirtyeight')"
   ]
  },
  {
   "cell_type": "code",
   "execution_count": 83,
   "id": "b1e86241",
   "metadata": {},
   "outputs": [
    {
     "data": {
      "text/html": [
       "<div>\n",
       "<style scoped>\n",
       "    .dataframe tbody tr th:only-of-type {\n",
       "        vertical-align: middle;\n",
       "    }\n",
       "\n",
       "    .dataframe tbody tr th {\n",
       "        vertical-align: top;\n",
       "    }\n",
       "\n",
       "    .dataframe thead th {\n",
       "        text-align: right;\n",
       "    }\n",
       "</style>\n",
       "<table border=\"1\" class=\"dataframe\">\n",
       "  <thead>\n",
       "    <tr style=\"text-align: right;\">\n",
       "      <th></th>\n",
       "      <th>High</th>\n",
       "      <th>Low</th>\n",
       "      <th>Open</th>\n",
       "      <th>Close</th>\n",
       "      <th>Volume</th>\n",
       "      <th>Adj Close</th>\n",
       "    </tr>\n",
       "    <tr>\n",
       "      <th>Date</th>\n",
       "      <th></th>\n",
       "      <th></th>\n",
       "      <th></th>\n",
       "      <th></th>\n",
       "      <th></th>\n",
       "      <th></th>\n",
       "    </tr>\n",
       "  </thead>\n",
       "  <tbody>\n",
       "    <tr>\n",
       "      <th>2012-01-03</th>\n",
       "      <td>14.732143</td>\n",
       "      <td>14.607143</td>\n",
       "      <td>14.621429</td>\n",
       "      <td>14.686786</td>\n",
       "      <td>302220800.0</td>\n",
       "      <td>12.557467</td>\n",
       "    </tr>\n",
       "    <tr>\n",
       "      <th>2012-01-04</th>\n",
       "      <td>14.810000</td>\n",
       "      <td>14.617143</td>\n",
       "      <td>14.642857</td>\n",
       "      <td>14.765714</td>\n",
       "      <td>260022000.0</td>\n",
       "      <td>12.624947</td>\n",
       "    </tr>\n",
       "    <tr>\n",
       "      <th>2012-01-05</th>\n",
       "      <td>14.948214</td>\n",
       "      <td>14.738214</td>\n",
       "      <td>14.819643</td>\n",
       "      <td>14.929643</td>\n",
       "      <td>271269600.0</td>\n",
       "      <td>12.765111</td>\n",
       "    </tr>\n",
       "    <tr>\n",
       "      <th>2012-01-06</th>\n",
       "      <td>15.098214</td>\n",
       "      <td>14.972143</td>\n",
       "      <td>14.991786</td>\n",
       "      <td>15.085714</td>\n",
       "      <td>318292800.0</td>\n",
       "      <td>12.898558</td>\n",
       "    </tr>\n",
       "    <tr>\n",
       "      <th>2012-01-09</th>\n",
       "      <td>15.276786</td>\n",
       "      <td>15.048214</td>\n",
       "      <td>15.196429</td>\n",
       "      <td>15.061786</td>\n",
       "      <td>394024400.0</td>\n",
       "      <td>12.878097</td>\n",
       "    </tr>\n",
       "    <tr>\n",
       "      <th>...</th>\n",
       "      <td>...</td>\n",
       "      <td>...</td>\n",
       "      <td>...</td>\n",
       "      <td>...</td>\n",
       "      <td>...</td>\n",
       "      <td>...</td>\n",
       "    </tr>\n",
       "    <tr>\n",
       "      <th>2022-07-05</th>\n",
       "      <td>141.610001</td>\n",
       "      <td>136.929993</td>\n",
       "      <td>137.770004</td>\n",
       "      <td>141.559998</td>\n",
       "      <td>73353800.0</td>\n",
       "      <td>141.559998</td>\n",
       "    </tr>\n",
       "    <tr>\n",
       "      <th>2022-07-06</th>\n",
       "      <td>144.119995</td>\n",
       "      <td>141.080002</td>\n",
       "      <td>141.350006</td>\n",
       "      <td>142.919998</td>\n",
       "      <td>74064300.0</td>\n",
       "      <td>142.919998</td>\n",
       "    </tr>\n",
       "    <tr>\n",
       "      <th>2022-07-07</th>\n",
       "      <td>146.550003</td>\n",
       "      <td>143.279999</td>\n",
       "      <td>143.289993</td>\n",
       "      <td>146.350006</td>\n",
       "      <td>66253700.0</td>\n",
       "      <td>146.350006</td>\n",
       "    </tr>\n",
       "    <tr>\n",
       "      <th>2022-07-08</th>\n",
       "      <td>147.550003</td>\n",
       "      <td>145.000000</td>\n",
       "      <td>145.259995</td>\n",
       "      <td>147.039993</td>\n",
       "      <td>64493200.0</td>\n",
       "      <td>147.039993</td>\n",
       "    </tr>\n",
       "    <tr>\n",
       "      <th>2022-07-11</th>\n",
       "      <td>146.639999</td>\n",
       "      <td>143.779999</td>\n",
       "      <td>145.669998</td>\n",
       "      <td>144.869995</td>\n",
       "      <td>63141600.0</td>\n",
       "      <td>144.869995</td>\n",
       "    </tr>\n",
       "  </tbody>\n",
       "</table>\n",
       "<p>2647 rows × 6 columns</p>\n",
       "</div>"
      ],
      "text/plain": [
       "                  High         Low        Open       Close       Volume  \\\n",
       "Date                                                                      \n",
       "2012-01-03   14.732143   14.607143   14.621429   14.686786  302220800.0   \n",
       "2012-01-04   14.810000   14.617143   14.642857   14.765714  260022000.0   \n",
       "2012-01-05   14.948214   14.738214   14.819643   14.929643  271269600.0   \n",
       "2012-01-06   15.098214   14.972143   14.991786   15.085714  318292800.0   \n",
       "2012-01-09   15.276786   15.048214   15.196429   15.061786  394024400.0   \n",
       "...                ...         ...         ...         ...          ...   \n",
       "2022-07-05  141.610001  136.929993  137.770004  141.559998   73353800.0   \n",
       "2022-07-06  144.119995  141.080002  141.350006  142.919998   74064300.0   \n",
       "2022-07-07  146.550003  143.279999  143.289993  146.350006   66253700.0   \n",
       "2022-07-08  147.550003  145.000000  145.259995  147.039993   64493200.0   \n",
       "2022-07-11  146.639999  143.779999  145.669998  144.869995   63141600.0   \n",
       "\n",
       "             Adj Close  \n",
       "Date                    \n",
       "2012-01-03   12.557467  \n",
       "2012-01-04   12.624947  \n",
       "2012-01-05   12.765111  \n",
       "2012-01-06   12.898558  \n",
       "2012-01-09   12.878097  \n",
       "...                ...  \n",
       "2022-07-05  141.559998  \n",
       "2022-07-06  142.919998  \n",
       "2022-07-07  146.350006  \n",
       "2022-07-08  147.039993  \n",
       "2022-07-11  144.869995  \n",
       "\n",
       "[2647 rows x 6 columns]"
      ]
     },
     "execution_count": 83,
     "metadata": {},
     "output_type": "execute_result"
    }
   ],
   "source": [
    "# # Get stock quote\n",
    "df = web.DataReader('AAPL', data_source = 'yahoo', start = '2012-01-01', end = '2022-7-11')\n",
    "# Show the data\n",
    "df"
   ]
  },
  {
   "cell_type": "code",
   "execution_count": 84,
   "id": "1046d5d1",
   "metadata": {},
   "outputs": [
    {
     "data": {
      "text/plain": [
       "(2647, 6)"
      ]
     },
     "execution_count": 84,
     "metadata": {},
     "output_type": "execute_result"
    }
   ],
   "source": [
    "# Get the number of rows and columns in the data set\n",
    "df.shape"
   ]
  },
  {
   "cell_type": "code",
   "execution_count": 85,
   "id": "328fef78",
   "metadata": {},
   "outputs": [
    {
     "data": {
      "image/png": "[encoded data removed]",
      "text/plain": [
       "<Figure size 1152x576 with 1 Axes>"
      ]
     },
     "metadata": {},
     "output_type": "display_data"
    }
   ],
   "source": [
    "# Visualise the closing price history\n",
    "plt.figure(figsize = (16,8))\n",
    "plt.title('Close Price History')\n",
    "plt.plot(df['Close'])\n",
    "plt.xlabel('Date',fontsize = 18)\n",
    "plt.ylabel('Close Price USD($)', fontsize = 18)\n",
    "plt.show()"
   ]
  },
  {
   "cell_type": "code",
   "execution_count": 86,
   "id": "f5917367",
   "metadata": {},
   "outputs": [
    {
     "data": {
      "text/plain": [
       "2118"
      ]
     },
     "execution_count": 86,
     "metadata": {},
     "output_type": "execute_result"
    }
   ],
   "source": [
    "# Create new dataframe with only the 'Close Column'\n",
    "data = df.filter(['Close'])\n",
    "# Convert the dataframe to a numpy array\n",
    "dataset = data.values\n",
    "# Get the number of rows to train the model on \n",
    "train_data_len = math.ceil(len(dataset)*.8)\n",
    "train_data_len"
   ]
  },
  {
   "cell_type": "code",
   "execution_count": 87,
   "id": "bfab51a4",
   "metadata": {},
   "outputs": [
    {
     "data": {
      "text/plain": [
       "array([[0.00439887],\n",
       "       [0.00486851],\n",
       "       [0.00584391],\n",
       "       ...,\n",
       "       [0.78781709],\n",
       "       [0.79192263],\n",
       "       [0.77901078]])"
      ]
     },
     "execution_count": 87,
     "metadata": {},
     "output_type": "execute_result"
    }
   ],
   "source": [
    "# Scale the data\n",
    "scaler = MinMaxScaler(feature_range = (0,1))\n",
    "scaled_data = scaler.fit_transform(dataset)\n",
    "scaled_data"
   ]
  },
  {
   "cell_type": "code",
   "execution_count": 88,
   "id": "186cc0e4",
   "metadata": {},
   "outputs": [
    {
     "name": "stdout",
     "output_type": "stream",
     "text": [
      "[array([0.00439887, 0.00486851, 0.00584391, 0.00677256, 0.00663019,\n",
      "       0.00695107, 0.00680444, 0.00655793, 0.00622217, 0.00726133,\n",
      "       0.00819848, 0.00790947, 0.0063263 , 0.00783722, 0.00634968,\n",
      "       0.01192796, 0.01149658, 0.01205972, 0.01327737, 0.01401476,\n",
      "       0.01395314, 0.01372576, 0.01469479, 0.01560643, 0.01663922,\n",
      "       0.01830739, 0.02181161, 0.02186474, 0.02381555, 0.02527333,\n",
      "       0.0227679 , 0.02373267, 0.02371354, 0.02641875, 0.02603411,\n",
      "       0.026746  , 0.02802528, 0.02873719, 0.03078787, 0.03228178,\n",
      "       0.03271317, 0.03286405, 0.03030973, 0.02969346, 0.02978484,\n",
      "       0.03218616, 0.03286193, 0.03431335, 0.03773469, 0.04229932,\n",
      "       0.04144504, 0.04144716, 0.04474738, 0.04578017, 0.04504489,\n",
      "       0.04437338, 0.04367423, 0.04599691, 0.04759072, 0.04825798])]\n",
      "[0.04660893460974819]\n",
      "\n"
     ]
    }
   ],
   "source": [
    "# Create the training data set\n",
    "train_data = scaled_data[0:train_data_len,:]\n",
    "# Split the data into x_train and y_train\n",
    "x_train = []\n",
    "y_train = []\n",
    "\n",
    "for i in range(60,len(train_data)):\n",
    "    x_train.append(train_data[i-60:i,0])\n",
    "    y_train.append(train_data[i,0])\n",
    "    if i<=60:\n",
    "        print(x_train)\n",
    "        print(y_train)\n",
    "        print()"
   ]
  },
  {
   "cell_type": "code",
   "execution_count": 89,
   "id": "2fd32258",
   "metadata": {},
   "outputs": [],
   "source": [
    "# Convert x_train and y_train to numpy arrays\n",
    "x_train,y_train = np.array(x_train),np.array(y_train)"
   ]
  },
  {
   "cell_type": "code",
   "execution_count": 90,
   "id": "988239d3",
   "metadata": {},
   "outputs": [
    {
     "data": {
      "text/plain": [
       "(2058, 60, 1)"
      ]
     },
     "execution_count": 90,
     "metadata": {},
     "output_type": "execute_result"
    }
   ],
   "source": [
    "# Reshape the data\n",
    "x_train = np.reshape(x_train,(x_train.shape[0],x_train.shape[1],1))\n",
    "x_train.shape"
   ]
  },
  {
   "cell_type": "code",
   "execution_count": 91,
   "id": "eabcd137",
   "metadata": {},
   "outputs": [],
   "source": [
    "# Build the LSTM model\n",
    "model = Sequential()\n",
    "model.add(LSTM(50,return_sequences = True, input_shape = (x_train.shape[1],1)))\n",
    "model.add(LSTM(50,return_sequences = False))\n",
    "model.add(Dense(25))\n",
    "model.add(Dense(1))"
   ]
  },
  {
   "cell_type": "code",
   "execution_count": 92,
   "id": "94cb7faf",
   "metadata": {},
   "outputs": [],
   "source": [
    "# Compile the model\n",
    "model.compile(optimizer = 'adam', loss = 'mean_squared_error')"
   ]
  },
  {
   "cell_type": "code",
   "execution_count": 93,
   "id": "a9432d3b",
   "metadata": {},
   "outputs": [
    {
     "name": "stdout",
     "output_type": "stream",
     "text": [
      "2058/2058 [==============================] - 31s 14ms/step - loss: 2.5370e-04\n"
     ]
    },
    {
     "data": {
      "text/plain": [
       "<keras.callbacks.History at 0x7f898973cb50>"
      ]
     },
     "execution_count": 93,
     "metadata": {},
     "output_type": "execute_result"
    }
   ],
   "source": [
    "# Train the model\n",
    "model.fit(x_train,y_train,batch_size = 1, epochs = 1)"
   ]
  },
  {
   "cell_type": "code",
   "execution_count": 94,
   "id": "58386be9",
   "metadata": {},
   "outputs": [],
   "source": [
    "# Create the testing data set\n",
    "test_data = scaled_data[train_data_len - 60:,:]\n",
    "# Create the data sets x_test and y_test\n",
    "x_test = []\n",
    "y_test = dataset[train_data_len:,:]\n",
    "for i in range(60,len(test_data)):\n",
    "    x_test.append(test_data[i-60:i,0])"
   ]
  },
  {
   "cell_type": "code",
   "execution_count": 95,
   "id": "9d9b7b24",
   "metadata": {},
   "outputs": [],
   "source": [
    "# Convert the data to a numpy array\n",
    "x_test = np.array(x_test)\n",
    "# Reshape the data\n",
    "x_test = np.reshape(x_test,(x_test.shape[0],x_test.shape[1],1))"
   ]
  },
  {
   "cell_type": "code",
   "execution_count": 96,
   "id": "3b799074",
   "metadata": {},
   "outputs": [
    {
     "name": "stdout",
     "output_type": "stream",
     "text": [
      "17/17 [==============================] - 1s 8ms/step\n"
     ]
    }
   ],
   "source": [
    "# Get the models predicted price values\n",
    "predictions = model.predict(x_test)\n",
    "predictions = scaler.inverse_transform(predictions)"
   ]
  },
  {
   "cell_type": "code",
   "execution_count": 97,
   "id": "992d707f",
   "metadata": {},
   "outputs": [
    {
     "data": {
      "text/plain": [
       "0.5039114997157077"
      ]
     },
     "execution_count": 97,
     "metadata": {},
     "output_type": "execute_result"
    }
   ],
   "source": [
    "# Get the root mean squared error (RMSE)\n",
    "rmse = np.sqrt(np.mean(predictions - y_test)**2)\n",
    "rmse"
   ]
  },
  {
   "cell_type": "code",
   "execution_count": 98,
   "id": "bd94744c",
   "metadata": {},
   "outputs": [
    {
     "name": "stderr",
     "output_type": "stream",
     "text": [
      "/var/folders/72/vd0_p99d32dc_p7__s8bghfr0000gn/T/ipykernel_88884/3058461796.py:4: SettingWithCopyWarning: \n",
      "A value is trying to be set on a copy of a slice from a DataFrame.\n",
      "Try using .loc[row_indexer,col_indexer] = value instead\n",
      "\n",
      "See the caveats in the documentation: https://pandas.pydata.org/pandas-docs/stable/user_guide/indexing.html#returning-a-view-versus-a-copy\n",
      "  valid['Predictions'] = predictions\n"
     ]
    },
    {
     "data": {
      "image/png": "[encoded data removed]",
      "text/plain": [
       "<Figure size 1152x576 with 1 Axes>"
      ]
     },
     "metadata": {},
     "output_type": "display_data"
    }
   ],
   "source": [
    "# Plot the data\n",
    "train = data[:train_data_len]\n",
    "valid = data[train_data_len:]\n",
    "valid['Predictions'] = predictions\n",
    "# Visualise the data\n",
    "plt.figure(figsize = (16,8))\n",
    "plt.title('Model')\n",
    "plt.xlabel('Date', fontsize = 18)\n",
    "plt.ylabel('Close Price($)', fontsize = 18)\n",
    "plt.plot(train['Close'])\n",
    "plt.plot(valid[['Close', 'Predictions']])\n",
    "plt.legend(['Train','Val','Predictions'], loc  = 'lower right')\n",
    "plt.show()"
   ]
  },
  {
   "cell_type": "code",
   "execution_count": 99,
   "id": "12a69e66",
   "metadata": {},
   "outputs": [
    {
     "data": {
      "text/html": [
       "<div>\n",
       "<style scoped>\n",
       "    .dataframe tbody tr th:only-of-type {\n",
       "        vertical-align: middle;\n",
       "    }\n",
       "\n",
       "    .dataframe tbody tr th {\n",
       "        vertical-align: top;\n",
       "    }\n",
       "\n",
       "    .dataframe thead th {\n",
       "        text-align: right;\n",
       "    }\n",
       "</style>\n",
       "<table border=\"1\" class=\"dataframe\">\n",
       "  <thead>\n",
       "    <tr style=\"text-align: right;\">\n",
       "      <th></th>\n",
       "      <th>Close</th>\n",
       "      <th>Predictions</th>\n",
       "    </tr>\n",
       "    <tr>\n",
       "      <th>Date</th>\n",
       "      <th></th>\n",
       "      <th></th>\n",
       "    </tr>\n",
       "  </thead>\n",
       "  <tbody>\n",
       "    <tr>\n",
       "      <th>2020-06-04</th>\n",
       "      <td>80.580002</td>\n",
       "      <td>80.681152</td>\n",
       "    </tr>\n",
       "    <tr>\n",
       "      <th>2020-06-05</th>\n",
       "      <td>82.875000</td>\n",
       "      <td>80.881699</td>\n",
       "    </tr>\n",
       "    <tr>\n",
       "      <th>2020-06-08</th>\n",
       "      <td>83.364998</td>\n",
       "      <td>81.291641</td>\n",
       "    </tr>\n",
       "    <tr>\n",
       "      <th>2020-06-09</th>\n",
       "      <td>85.997498</td>\n",
       "      <td>81.820244</td>\n",
       "    </tr>\n",
       "    <tr>\n",
       "      <th>2020-06-10</th>\n",
       "      <td>88.209999</td>\n",
       "      <td>82.670898</td>\n",
       "    </tr>\n",
       "    <tr>\n",
       "      <th>...</th>\n",
       "      <td>...</td>\n",
       "      <td>...</td>\n",
       "    </tr>\n",
       "    <tr>\n",
       "      <th>2022-07-05</th>\n",
       "      <td>141.559998</td>\n",
       "      <td>138.301620</td>\n",
       "    </tr>\n",
       "    <tr>\n",
       "      <th>2022-07-06</th>\n",
       "      <td>142.919998</td>\n",
       "      <td>138.929520</td>\n",
       "    </tr>\n",
       "    <tr>\n",
       "      <th>2022-07-07</th>\n",
       "      <td>146.350006</td>\n",
       "      <td>139.793106</td>\n",
       "    </tr>\n",
       "    <tr>\n",
       "      <th>2022-07-08</th>\n",
       "      <td>147.039993</td>\n",
       "      <td>141.116638</td>\n",
       "    </tr>\n",
       "    <tr>\n",
       "      <th>2022-07-11</th>\n",
       "      <td>144.869995</td>\n",
       "      <td>142.602005</td>\n",
       "    </tr>\n",
       "  </tbody>\n",
       "</table>\n",
       "<p>529 rows × 2 columns</p>\n",
       "</div>"
      ],
      "text/plain": [
       "                 Close  Predictions\n",
       "Date                               \n",
       "2020-06-04   80.580002    80.681152\n",
       "2020-06-05   82.875000    80.881699\n",
       "2020-06-08   83.364998    81.291641\n",
       "2020-06-09   85.997498    81.820244\n",
       "2020-06-10   88.209999    82.670898\n",
       "...                ...          ...\n",
       "2022-07-05  141.559998   138.301620\n",
       "2022-07-06  142.919998   138.929520\n",
       "2022-07-07  146.350006   139.793106\n",
       "2022-07-08  147.039993   141.116638\n",
       "2022-07-11  144.869995   142.602005\n",
       "\n",
       "[529 rows x 2 columns]"
      ]
     },
     "execution_count": 99,
     "metadata": {},
     "output_type": "execute_result"
    }
   ],
   "source": [
    "# Show the valid and predicted prices\n",
    "valid"
   ]
  },
  {
   "cell_type": "code",
   "execution_count": 115,
   "id": "1464674d",
   "metadata": {},
   "outputs": [
    {
     "name": "stdout",
     "output_type": "stream",
     "text": [
      "2/2 [==============================] - 0s 3ms/step\n"
     ]
    },
    {
     "data": {
      "text/plain": [
       "array([[0.17148735],\n",
       "       [0.16791968],\n",
       "       [0.16776621],\n",
       "       [0.16939199],\n",
       "       [0.16927333],\n",
       "       [0.16870803],\n",
       "       [0.16548002],\n",
       "       [0.16623946],\n",
       "       [0.16200753],\n",
       "       [0.16184764],\n",
       "       [0.16676915],\n",
       "       [0.16259855],\n",
       "       [0.16281417],\n",
       "       [0.16387166],\n",
       "       [0.16842891],\n",
       "       [0.16198668],\n",
       "       [0.16234128],\n",
       "       [0.15871541],\n",
       "       [0.16041625],\n",
       "       [0.15486193],\n",
       "       [0.15213668],\n",
       "       [0.15528427],\n",
       "       [0.15419748],\n",
       "       [0.15675984],\n",
       "       [0.15093464],\n",
       "       [0.14854012],\n",
       "       [0.14870562],\n",
       "       [0.15251684],\n",
       "       [0.15061699],\n",
       "       [0.15072747],\n",
       "       [0.15298006],\n",
       "       [0.1570371 ],\n",
       "       [0.15648264],\n",
       "       [0.15639256],\n",
       "       [0.15812573],\n",
       "       [0.15408678],\n",
       "       [0.15461273],\n",
       "       [0.15639256],\n",
       "       [0.15587296],\n",
       "       [0.15219198],\n",
       "       [0.14838843],\n",
       "       [0.144773  ],\n",
       "       [0.14537841],\n",
       "       [0.14721678],\n",
       "       [0.14352165],\n",
       "       [0.14455289],\n",
       "       [0.14751995],\n",
       "       [0.14716168],\n",
       "       [0.14917462],\n",
       "       [0.15151481],\n",
       "       [0.15151481],\n",
       "       [0.14860219],\n",
       "       [0.14983699],\n",
       "       [0.14810579],\n",
       "       [0.14962995],\n",
       "       [0.15144573],\n",
       "       [0.1523855 ],\n",
       "       [0.1547581 ],\n",
       "       [0.15523581],\n",
       "       [0.15373392]], dtype=float32)"
      ]
     },
     "execution_count": 115,
     "metadata": {},
     "output_type": "execute_result"
    }
   ],
   "source": [
    "# Predict closing price 1 day in future\n",
    "apple_quote = web.DataReader('AAPL', data_source = 'yahoo', start = '2012-01-01', end = '2022-7-11')\n",
    "# Create a new dataframe\n",
    "new_df = apple_quote.filter(['Close'])\n",
    "# Get last 60 days closing prices and convert dataframe to an array\n",
    "last_60_days = new_df[-60:].values\n",
    "# Scale the data to be vlaues between 0 and 1\n",
    "last_60_days_scale = scaler.transform(last_60_days)\n",
    "# Create an empty list\n",
    "X_test = []\n",
    "# Append the past 60 days\n",
    "X_test.append(last_60_days_scale)\n",
    "X_test = np.array(last_60_days_scale)\n",
    "X_test = np.reshape(X_test,(X_test.shape[0],X_test.shape[1],1))\n",
    "pred_price = model.predict(X_test)\n",
    "#pred_price = scaler.inverse_transform(pred_price)\n",
    "pred_price"
   ]
  },
  {
   "cell_type": "code",
   "execution_count": null,
   "id": "2efb6d45",
   "metadata": {},
   "outputs": [],
   "source": []
  }
 ],
 "metadata": {
  "kernelspec": {
   "display_name": "Python 3 (ipykernel)",
   "language": "python",
   "name": "python3"
  },
  "language_info": {
   "codemirror_mode": {
    "name": "ipython",
    "version": 3
   },
   "file_extension": ".py",
   "mimetype": "text/x-python",
   "name": "python",
   "nbconvert_exporter": "python",
   "pygments_lexer": "ipython3",
   "version": "3.9.12"
  }
 },
 "nbformat": 4,
 "nbformat_minor": 5
}
